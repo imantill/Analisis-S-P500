{
  "nbformat": 4,
  "nbformat_minor": 0,
  "metadata": {
    "colab": {
      "provenance": []
    },
    "kernelspec": {
      "name": "python3",
      "display_name": "Python 3"
    },
    "language_info": {
      "name": "python"
    }
  },
  "cells": [
    {
      "cell_type": "code",
      "source": [
        "!pip install pandas numpy matplotlib seaborn scikit-learn"
      ],
      "metadata": {
        "colab": {
          "base_uri": "https://localhost:8080/"
        },
        "id": "gflFQhDY-4aE",
        "outputId": "5219b2dd-dbc0-46f5-8bf1-eb8fa6c8612d"
      },
      "execution_count": null,
      "outputs": [
        {
          "output_type": "stream",
          "name": "stdout",
          "text": [
            "Requirement already satisfied: pandas in /usr/local/lib/python3.10/dist-packages (2.1.4)\n",
            "Requirement already satisfied: numpy in /usr/local/lib/python3.10/dist-packages (1.26.4)\n",
            "Requirement already satisfied: matplotlib in /usr/local/lib/python3.10/dist-packages (3.7.1)\n",
            "Requirement already satisfied: seaborn in /usr/local/lib/python3.10/dist-packages (0.13.1)\n",
            "Requirement already satisfied: scikit-learn in /usr/local/lib/python3.10/dist-packages (1.3.2)\n",
            "Requirement already satisfied: python-dateutil>=2.8.2 in /usr/local/lib/python3.10/dist-packages (from pandas) (2.8.2)\n",
            "Requirement already satisfied: pytz>=2020.1 in /usr/local/lib/python3.10/dist-packages (from pandas) (2024.1)\n",
            "Requirement already satisfied: tzdata>=2022.1 in /usr/local/lib/python3.10/dist-packages (from pandas) (2024.1)\n",
            "Requirement already satisfied: contourpy>=1.0.1 in /usr/local/lib/python3.10/dist-packages (from matplotlib) (1.2.1)\n",
            "Requirement already satisfied: cycler>=0.10 in /usr/local/lib/python3.10/dist-packages (from matplotlib) (0.12.1)\n",
            "Requirement already satisfied: fonttools>=4.22.0 in /usr/local/lib/python3.10/dist-packages (from matplotlib) (4.53.1)\n",
            "Requirement already satisfied: kiwisolver>=1.0.1 in /usr/local/lib/python3.10/dist-packages (from matplotlib) (1.4.5)\n",
            "Requirement already satisfied: packaging>=20.0 in /usr/local/lib/python3.10/dist-packages (from matplotlib) (24.1)\n",
            "Requirement already satisfied: pillow>=6.2.0 in /usr/local/lib/python3.10/dist-packages (from matplotlib) (9.4.0)\n",
            "Requirement already satisfied: pyparsing>=2.3.1 in /usr/local/lib/python3.10/dist-packages (from matplotlib) (3.1.2)\n",
            "Requirement already satisfied: scipy>=1.5.0 in /usr/local/lib/python3.10/dist-packages (from scikit-learn) (1.13.1)\n",
            "Requirement already satisfied: joblib>=1.1.1 in /usr/local/lib/python3.10/dist-packages (from scikit-learn) (1.4.2)\n",
            "Requirement already satisfied: threadpoolctl>=2.0.0 in /usr/local/lib/python3.10/dist-packages (from scikit-learn) (3.5.0)\n",
            "Requirement already satisfied: six>=1.5 in /usr/local/lib/python3.10/dist-packages (from python-dateutil>=2.8.2->pandas) (1.16.0)\n"
          ]
        }
      ]
    },
    {
      "cell_type": "code",
      "source": [
        "from google.colab import files\n",
        "\n",
        "uploaded = files.upload()"
      ],
      "metadata": {
        "colab": {
          "base_uri": "https://localhost:8080/",
          "height": 73
        },
        "id": "5lzfhc3yBU1e",
        "outputId": "7969bb64-7cf9-4755-d335-fcf218f83c8b"
      },
      "execution_count": null,
      "outputs": [
        {
          "output_type": "display_data",
          "data": {
            "text/plain": [
              "<IPython.core.display.HTML object>"
            ],
            "text/html": [
              "\n",
              "     <input type=\"file\" id=\"files-125e6e79-46b7-4586-b242-7fe95b6189a3\" name=\"files[]\" multiple disabled\n",
              "        style=\"border:none\" />\n",
              "     <output id=\"result-125e6e79-46b7-4586-b242-7fe95b6189a3\">\n",
              "      Upload widget is only available when the cell has been executed in the\n",
              "      current browser session. Please rerun this cell to enable.\n",
              "      </output>\n",
              "      <script>// Copyright 2017 Google LLC\n",
              "//\n",
              "// Licensed under the Apache License, Version 2.0 (the \"License\");\n",
              "// you may not use this file except in compliance with the License.\n",
              "// You may obtain a copy of the License at\n",
              "//\n",
              "//      http://www.apache.org/licenses/LICENSE-2.0\n",
              "//\n",
              "// Unless required by applicable law or agreed to in writing, software\n",
              "// distributed under the License is distributed on an \"AS IS\" BASIS,\n",
              "// WITHOUT WARRANTIES OR CONDITIONS OF ANY KIND, either express or implied.\n",
              "// See the License for the specific language governing permissions and\n",
              "// limitations under the License.\n",
              "\n",
              "/**\n",
              " * @fileoverview Helpers for google.colab Python module.\n",
              " */\n",
              "(function(scope) {\n",
              "function span(text, styleAttributes = {}) {\n",
              "  const element = document.createElement('span');\n",
              "  element.textContent = text;\n",
              "  for (const key of Object.keys(styleAttributes)) {\n",
              "    element.style[key] = styleAttributes[key];\n",
              "  }\n",
              "  return element;\n",
              "}\n",
              "\n",
              "// Max number of bytes which will be uploaded at a time.\n",
              "const MAX_PAYLOAD_SIZE = 100 * 1024;\n",
              "\n",
              "function _uploadFiles(inputId, outputId) {\n",
              "  const steps = uploadFilesStep(inputId, outputId);\n",
              "  const outputElement = document.getElementById(outputId);\n",
              "  // Cache steps on the outputElement to make it available for the next call\n",
              "  // to uploadFilesContinue from Python.\n",
              "  outputElement.steps = steps;\n",
              "\n",
              "  return _uploadFilesContinue(outputId);\n",
              "}\n",
              "\n",
              "// This is roughly an async generator (not supported in the browser yet),\n",
              "// where there are multiple asynchronous steps and the Python side is going\n",
              "// to poll for completion of each step.\n",
              "// This uses a Promise to block the python side on completion of each step,\n",
              "// then passes the result of the previous step as the input to the next step.\n",
              "function _uploadFilesContinue(outputId) {\n",
              "  const outputElement = document.getElementById(outputId);\n",
              "  const steps = outputElement.steps;\n",
              "\n",
              "  const next = steps.next(outputElement.lastPromiseValue);\n",
              "  return Promise.resolve(next.value.promise).then((value) => {\n",
              "    // Cache the last promise value to make it available to the next\n",
              "    // step of the generator.\n",
              "    outputElement.lastPromiseValue = value;\n",
              "    return next.value.response;\n",
              "  });\n",
              "}\n",
              "\n",
              "/**\n",
              " * Generator function which is called between each async step of the upload\n",
              " * process.\n",
              " * @param {string} inputId Element ID of the input file picker element.\n",
              " * @param {string} outputId Element ID of the output display.\n",
              " * @return {!Iterable<!Object>} Iterable of next steps.\n",
              " */\n",
              "function* uploadFilesStep(inputId, outputId) {\n",
              "  const inputElement = document.getElementById(inputId);\n",
              "  inputElement.disabled = false;\n",
              "\n",
              "  const outputElement = document.getElementById(outputId);\n",
              "  outputElement.innerHTML = '';\n",
              "\n",
              "  const pickedPromise = new Promise((resolve) => {\n",
              "    inputElement.addEventListener('change', (e) => {\n",
              "      resolve(e.target.files);\n",
              "    });\n",
              "  });\n",
              "\n",
              "  const cancel = document.createElement('button');\n",
              "  inputElement.parentElement.appendChild(cancel);\n",
              "  cancel.textContent = 'Cancel upload';\n",
              "  const cancelPromise = new Promise((resolve) => {\n",
              "    cancel.onclick = () => {\n",
              "      resolve(null);\n",
              "    };\n",
              "  });\n",
              "\n",
              "  // Wait for the user to pick the files.\n",
              "  const files = yield {\n",
              "    promise: Promise.race([pickedPromise, cancelPromise]),\n",
              "    response: {\n",
              "      action: 'starting',\n",
              "    }\n",
              "  };\n",
              "\n",
              "  cancel.remove();\n",
              "\n",
              "  // Disable the input element since further picks are not allowed.\n",
              "  inputElement.disabled = true;\n",
              "\n",
              "  if (!files) {\n",
              "    return {\n",
              "      response: {\n",
              "        action: 'complete',\n",
              "      }\n",
              "    };\n",
              "  }\n",
              "\n",
              "  for (const file of files) {\n",
              "    const li = document.createElement('li');\n",
              "    li.append(span(file.name, {fontWeight: 'bold'}));\n",
              "    li.append(span(\n",
              "        `(${file.type || 'n/a'}) - ${file.size} bytes, ` +\n",
              "        `last modified: ${\n",
              "            file.lastModifiedDate ? file.lastModifiedDate.toLocaleDateString() :\n",
              "                                    'n/a'} - `));\n",
              "    const percent = span('0% done');\n",
              "    li.appendChild(percent);\n",
              "\n",
              "    outputElement.appendChild(li);\n",
              "\n",
              "    const fileDataPromise = new Promise((resolve) => {\n",
              "      const reader = new FileReader();\n",
              "      reader.onload = (e) => {\n",
              "        resolve(e.target.result);\n",
              "      };\n",
              "      reader.readAsArrayBuffer(file);\n",
              "    });\n",
              "    // Wait for the data to be ready.\n",
              "    let fileData = yield {\n",
              "      promise: fileDataPromise,\n",
              "      response: {\n",
              "        action: 'continue',\n",
              "      }\n",
              "    };\n",
              "\n",
              "    // Use a chunked sending to avoid message size limits. See b/62115660.\n",
              "    let position = 0;\n",
              "    do {\n",
              "      const length = Math.min(fileData.byteLength - position, MAX_PAYLOAD_SIZE);\n",
              "      const chunk = new Uint8Array(fileData, position, length);\n",
              "      position += length;\n",
              "\n",
              "      const base64 = btoa(String.fromCharCode.apply(null, chunk));\n",
              "      yield {\n",
              "        response: {\n",
              "          action: 'append',\n",
              "          file: file.name,\n",
              "          data: base64,\n",
              "        },\n",
              "      };\n",
              "\n",
              "      let percentDone = fileData.byteLength === 0 ?\n",
              "          100 :\n",
              "          Math.round((position / fileData.byteLength) * 100);\n",
              "      percent.textContent = `${percentDone}% done`;\n",
              "\n",
              "    } while (position < fileData.byteLength);\n",
              "  }\n",
              "\n",
              "  // All done.\n",
              "  yield {\n",
              "    response: {\n",
              "      action: 'complete',\n",
              "    }\n",
              "  };\n",
              "}\n",
              "\n",
              "scope.google = scope.google || {};\n",
              "scope.google.colab = scope.google.colab || {};\n",
              "scope.google.colab._files = {\n",
              "  _uploadFiles,\n",
              "  _uploadFilesContinue,\n",
              "};\n",
              "})(self);\n",
              "</script> "
            ]
          },
          "metadata": {}
        },
        {
          "output_type": "stream",
          "name": "stdout",
          "text": [
            "Saving S&P500_prices.csv to S&P500_prices.csv\n"
          ]
        }
      ]
    },
    {
      "cell_type": "code",
      "source": [
        "import pandas as pd\n",
        "import io\n",
        "\n",
        "df = pd.read_csv(io.BytesIO(uploaded['S&P500_prices.csv']))\n",
        "print(df)"
      ],
      "metadata": {
        "colab": {
          "base_uri": "https://localhost:8080/"
        },
        "id": "tCNa8JA9BiVR",
        "outputId": "468be6c5-c899-4d49-c5f2-796b6fb9dff9"
      },
      "execution_count": null,
      "outputs": [
        {
          "output_type": "stream",
          "name": "stdout",
          "text": [
            "             Date       Close Ticker\n",
            "0      2024-01-02   91.973244    MMM\n",
            "1      2024-01-03   90.125420    MMM\n",
            "2      2024-01-04   90.443146    MMM\n",
            "3      2024-01-05   90.794312    MMM\n",
            "4      2024-01-08   91.020065    MMM\n",
            "...           ...         ...    ...\n",
            "29824  2024-03-22  168.899994    ZTS\n",
            "29825  2024-03-25  167.809998    ZTS\n",
            "29826  2024-03-26  165.669998    ZTS\n",
            "29827  2024-03-27  168.509995    ZTS\n",
            "29828  2024-03-28  169.210007    ZTS\n",
            "\n",
            "[29829 rows x 3 columns]\n"
          ]
        }
      ]
    },
    {
      "cell_type": "code",
      "source": [
        "df['Date'] = pd.to_datetime(df.Date)\n",
        "print(df)"
      ],
      "metadata": {
        "colab": {
          "base_uri": "https://localhost:8080/"
        },
        "id": "-tsaDiujC0bF",
        "outputId": "a8125d0f-40dd-4a0c-bd69-ed59b514d79b"
      },
      "execution_count": null,
      "outputs": [
        {
          "output_type": "stream",
          "name": "stdout",
          "text": [
            "            Date       Close Ticker\n",
            "0     2024-01-02   91.973244    MMM\n",
            "1     2024-01-03   90.125420    MMM\n",
            "2     2024-01-04   90.443146    MMM\n",
            "3     2024-01-05   90.794312    MMM\n",
            "4     2024-01-08   91.020065    MMM\n",
            "...          ...         ...    ...\n",
            "29824 2024-03-22  168.899994    ZTS\n",
            "29825 2024-03-25  167.809998    ZTS\n",
            "29826 2024-03-26  165.669998    ZTS\n",
            "29827 2024-03-27  168.509995    ZTS\n",
            "29828 2024-03-28  169.210007    ZTS\n",
            "\n",
            "[29829 rows x 3 columns]\n"
          ]
        }
      ]
    },
    {
      "cell_type": "code",
      "source": [
        "df = df.sort_values(by=['Ticker', 'Date'], ascending=True)\n",
        "print(df)"
      ],
      "metadata": {
        "colab": {
          "base_uri": "https://localhost:8080/"
        },
        "id": "KTmAvnzODOTV",
        "outputId": "53cc35bd-3c14-4845-d636-df04b9558626"
      },
      "execution_count": null,
      "outputs": [
        {
          "output_type": "stream",
          "name": "stdout",
          "text": [
            "            Date       Close Ticker\n",
            "610   2024-01-02  138.750000      A\n",
            "611   2024-01-03  131.160004      A\n",
            "612   2024-01-04  131.000000      A\n",
            "613   2024-01-05  130.559998      A\n",
            "614   2024-01-08  133.380005      A\n",
            "...          ...         ...    ...\n",
            "29824 2024-03-22  168.899994    ZTS\n",
            "29825 2024-03-25  167.809998    ZTS\n",
            "29826 2024-03-26  165.669998    ZTS\n",
            "29827 2024-03-27  168.509995    ZTS\n",
            "29828 2024-03-28  169.210007    ZTS\n",
            "\n",
            "[29829 rows x 3 columns]\n"
          ]
        }
      ]
    },
    {
      "cell_type": "code",
      "source": [
        "df['Return'] = df.groupby('Ticker')['Close'].pct_change()*100\n",
        "print(df)"
      ],
      "metadata": {
        "colab": {
          "base_uri": "https://localhost:8080/"
        },
        "id": "tRvzO-DUEW3z",
        "outputId": "ca8189e0-307b-4b02-f039-583693d10ff6"
      },
      "execution_count": null,
      "outputs": [
        {
          "output_type": "stream",
          "name": "stdout",
          "text": [
            "            Date       Close Ticker    Return\n",
            "610   2024-01-02  138.750000      A       NaN\n",
            "611   2024-01-03  131.160004      A -5.470268\n",
            "612   2024-01-04  131.000000      A -0.121991\n",
            "613   2024-01-05  130.559998      A -0.335880\n",
            "614   2024-01-08  133.380005      A  2.159932\n",
            "...          ...         ...    ...       ...\n",
            "29824 2024-03-22  168.899994    ZTS  0.344574\n",
            "29825 2024-03-25  167.809998    ZTS -0.645350\n",
            "29826 2024-03-26  165.669998    ZTS -1.275251\n",
            "29827 2024-03-27  168.509995    ZTS  1.714249\n",
            "29828 2024-03-28  169.210007    ZTS  0.415413\n",
            "\n",
            "[29829 rows x 4 columns]\n"
          ]
        }
      ]
    },
    {
      "cell_type": "code",
      "source": [
        "df.fillna(0, inplace=True)\n",
        "print(df)"
      ],
      "metadata": {
        "colab": {
          "base_uri": "https://localhost:8080/"
        },
        "collapsed": true,
        "id": "CncOWVLFI9ho",
        "outputId": "c1ca4cc9-ed0d-4760-c877-bbf1019b4c66"
      },
      "execution_count": null,
      "outputs": [
        {
          "output_type": "stream",
          "name": "stdout",
          "text": [
            "            Date       Close Ticker    Return\n",
            "610   2024-01-02  138.750000      A  0.000000\n",
            "611   2024-01-03  131.160004      A -5.470268\n",
            "612   2024-01-04  131.000000      A -0.121991\n",
            "613   2024-01-05  130.559998      A -0.335880\n",
            "614   2024-01-08  133.380005      A  2.159932\n",
            "...          ...         ...    ...       ...\n",
            "29824 2024-03-22  168.899994    ZTS  0.344574\n",
            "29825 2024-03-25  167.809998    ZTS -0.645350\n",
            "29826 2024-03-26  165.669998    ZTS -1.275251\n",
            "29827 2024-03-27  168.509995    ZTS  1.714249\n",
            "29828 2024-03-28  169.210007    ZTS  0.415413\n",
            "\n",
            "[29829 rows x 4 columns]\n"
          ]
        }
      ]
    },
    {
      "cell_type": "code",
      "source": [
        "std_df = df.groupby('Ticker')['Return'].std()\n",
        "print(std_df)"
      ],
      "metadata": {
        "colab": {
          "base_uri": "https://localhost:8080/"
        },
        "id": "9Pcx9i78Jocb",
        "outputId": "f4908aff-488e-48f9-fe8e-b3fcb4f85538"
      },
      "execution_count": null,
      "outputs": [
        {
          "output_type": "stream",
          "name": "stdout",
          "text": [
            "Ticker\n",
            "A       1.561118\n",
            "AAL     2.882006\n",
            "AAP     2.109418\n",
            "AAPL    1.247127\n",
            "ABT     1.126944\n",
            "          ...   \n",
            "YUM     0.887501\n",
            "ZBH     1.224122\n",
            "ZBRA    2.613134\n",
            "ZION    2.379044\n",
            "ZTS     1.673779\n",
            "Name: Return, Length: 489, dtype: float64\n"
          ]
        }
      ]
    },
    {
      "cell_type": "code",
      "source": [
        "range_df = df.groupby('Ticker')['Return'].max()\n",
        "range_df -= df.groupby('Ticker')['Return'].min()\n",
        "print(range_df)"
      ],
      "metadata": {
        "colab": {
          "base_uri": "https://localhost:8080/"
        },
        "id": "Q_LhL9i7NOQh",
        "outputId": "b0355ced-71ac-4ade-947c-b8eddeaf7280"
      },
      "execution_count": null,
      "outputs": [
        {
          "output_type": "stream",
          "name": "stdout",
          "text": [
            "Ticker\n",
            "A        8.835029\n",
            "AAL     19.724143\n",
            "AAP     11.464262\n",
            "AAPL     7.342815\n",
            "ABT      5.140149\n",
            "          ...    \n",
            "YUM      4.013585\n",
            "ZBH      7.242758\n",
            "ZBRA    17.940971\n",
            "ZION    11.083029\n",
            "ZTS     11.106437\n",
            "Name: Return, Length: 489, dtype: float64\n"
          ]
        }
      ]
    },
    {
      "cell_type": "code",
      "source": [
        "metrics_df = pd.concat([std_df, range_df], axis=1)\n",
        "metrics_df.columns = [\"SD\", \"Range\"]\n",
        "print(metrics_df)"
      ],
      "metadata": {
        "colab": {
          "base_uri": "https://localhost:8080/"
        },
        "id": "5YrTPN3lOi18",
        "outputId": "94d6e809-b8a0-4fdc-b670-6e727889b560"
      },
      "execution_count": 76,
      "outputs": [
        {
          "output_type": "stream",
          "name": "stdout",
          "text": [
            "              SD      Range\n",
            "Ticker                     \n",
            "A       1.561118   8.835029\n",
            "AAL     2.882006  19.724143\n",
            "AAP     2.109418  11.464262\n",
            "AAPL    1.247127   7.342815\n",
            "ABT     1.126944   5.140149\n",
            "...          ...        ...\n",
            "YUM     0.887501   4.013585\n",
            "ZBH     1.224122   7.242758\n",
            "ZBRA    2.613134  17.940971\n",
            "ZION    2.379044  11.083029\n",
            "ZTS     1.673779  11.106437\n",
            "\n",
            "[489 rows x 2 columns]\n"
          ]
        }
      ]
    },
    {
      "cell_type": "code",
      "source": [
        "print(metrics_df.head())"
      ],
      "metadata": {
        "colab": {
          "base_uri": "https://localhost:8080/"
        },
        "id": "dzuUuXzoX8Xo",
        "outputId": "afa05d0e-96c1-4a5d-9419-255669402185"
      },
      "execution_count": 78,
      "outputs": [
        {
          "output_type": "stream",
          "name": "stdout",
          "text": [
            "              SD      Range\n",
            "Ticker                     \n",
            "A       1.561118   8.835029\n",
            "AAL     2.882006  19.724143\n",
            "AAP     2.109418  11.464262\n",
            "AAPL    1.247127   7.342815\n",
            "ABT     1.126944   5.140149\n"
          ]
        }
      ]
    },
    {
      "cell_type": "code",
      "source": [
        "metrics_df = metrics_df.drop(index=metrics_df.index[0])\n",
        "print(metrics_df)"
      ],
      "metadata": {
        "colab": {
          "base_uri": "https://localhost:8080/"
        },
        "id": "pbsslx0OYs1X",
        "outputId": "9db1f26b-7b87-4466-f533-c29120ff30dd"
      },
      "execution_count": 81,
      "outputs": [
        {
          "output_type": "stream",
          "name": "stdout",
          "text": [
            "              SD      Range\n",
            "Ticker                     \n",
            "AAPL    1.247127   7.342815\n",
            "ABT     1.126944   5.140149\n",
            "ACGL    1.061113   5.048190\n",
            "ACN     1.735392  12.189248\n",
            "ADBE    2.625738  18.017196\n",
            "...          ...        ...\n",
            "YUM     0.887501   4.013585\n",
            "ZBH     1.224122   7.242758\n",
            "ZBRA    2.613134  17.940971\n",
            "ZION    2.379044  11.083029\n",
            "ZTS     1.673779  11.106437\n",
            "\n",
            "[486 rows x 2 columns]\n"
          ]
        }
      ]
    },
    {
      "cell_type": "code",
      "source": [],
      "metadata": {
        "id": "TtG_koMHYsxY"
      },
      "execution_count": null,
      "outputs": []
    },
    {
      "cell_type": "code",
      "source": [
        "# Min-Max Normalization\n",
        "df_norm = (metrics_df-metrics_df.min())/(metrics_df.max()-metrics_df.min())\n",
        "print(df_norm)"
      ],
      "metadata": {
        "colab": {
          "base_uri": "https://localhost:8080/"
        },
        "id": "WazWiHZHVaFE",
        "outputId": "e9785fb1-7dc9-4444-cc4e-46c073bb5798"
      },
      "execution_count": 84,
      "outputs": [
        {
          "output_type": "stream",
          "name": "stdout",
          "text": [
            "              SD     Range\n",
            "Ticker                    \n",
            "AAPL    0.168599  0.160881\n",
            "ABT     0.137849  0.078392\n",
            "ACGL    0.121006  0.074948\n",
            "ACN     0.293524  0.342378\n",
            "ADBE    0.521325  0.560632\n",
            "...          ...       ...\n",
            "YUM     0.076586  0.036202\n",
            "ZBH     0.162713  0.157134\n",
            "ZBRA    0.518100  0.557777\n",
            "ZION    0.458207  0.300950\n",
            "ZTS     0.277760  0.301827\n",
            "\n",
            "[486 rows x 2 columns]\n"
          ]
        }
      ]
    },
    {
      "cell_type": "code",
      "source": [
        "from matplotlib import pyplot as plt\n"
      ],
      "metadata": {
        "id": "4m7UjldwalKW"
      },
      "execution_count": 86,
      "outputs": []
    },
    {
      "cell_type": "code",
      "source": [
        "X = np.array(df_norm['SD'])\n",
        "Y = np.array(df_norm['Range'])\n",
        "plt.scatter(X, Y)"
      ],
      "metadata": {
        "colab": {
          "base_uri": "https://localhost:8080/",
          "height": 447
        },
        "collapsed": true,
        "id": "oq_JjqVHZYIh",
        "outputId": "3a56233f-7536-483c-d875-4b67697dbfa6"
      },
      "execution_count": 88,
      "outputs": [
        {
          "output_type": "execute_result",
          "data": {
            "text/plain": [
              "<matplotlib.collections.PathCollection at 0x7e63aa252050>"
            ]
          },
          "metadata": {},
          "execution_count": 88
        },
        {
          "output_type": "display_data",
          "data": {
            "text/plain": [
              "<Figure size 640x480 with 1 Axes>"
            ],
            "image/png": "[encoded data removed]"
          },
          "metadata": {}
        }
      ]
    },
    {
      "cell_type": "code",
      "source": [
        "from sklearn.cluster import KMeans"
      ],
      "metadata": {
        "id": "KGEYqrYgbpAk"
      },
      "execution_count": 89,
      "outputs": []
    },
    {
      "cell_type": "code",
      "source": [
        "k=3\n",
        "k_means = KMeans(n_clusters=k)\n",
        "clusters = k_means.fit_predict(df_norm)\n",
        "metrics_df['Cluster'] = clusters\n",
        "Y = np.array(metrics_df['Cluster'])\n",
        "print(metrics_df)\n"
      ],
      "metadata": {
        "colab": {
          "base_uri": "https://localhost:8080/"
        },
        "id": "nYICfWcugTsF",
        "outputId": "6996ad04-0eb2-4ed7-c4c4-eaafade52e3b"
      },
      "execution_count": 95,
      "outputs": [
        {
          "output_type": "stream",
          "name": "stdout",
          "text": [
            "              SD      Range  Cluster\n",
            "Ticker                              \n",
            "AAPL    1.247127   7.342815        1\n",
            "ABT     1.126944   5.140149        1\n",
            "ACGL    1.061113   5.048190        1\n",
            "ACN     1.735392  12.189248        0\n",
            "ADBE    2.625738  18.017196        2\n",
            "...          ...        ...      ...\n",
            "YUM     0.887501   4.013585        1\n",
            "ZBH     1.224122   7.242758        1\n",
            "ZBRA    2.613134  17.940971        2\n",
            "ZION    2.379044  11.083029        0\n",
            "ZTS     1.673779  11.106437        0\n",
            "\n",
            "[486 rows x 3 columns]\n"
          ]
        },
        {
          "output_type": "stream",
          "name": "stderr",
          "text": [
            "/usr/local/lib/python3.10/dist-packages/sklearn/cluster/_kmeans.py:1416: FutureWarning: The default value of `n_init` will change from 10 to 'auto' in 1.4. Set the value of `n_init` explicitly to suppress the warning\n",
            "  super()._check_params_vs_input(X, default_n_init=10)\n"
          ]
        }
      ]
    },
    {
      "cell_type": "code",
      "source": [
        "X = np.array(df_norm)\n",
        "Y = np.array(metrics_df['Cluster'])\n",
        "plt.xlabel(\n",
        "    \"Desviación\",\n",
        "    size=10,\n",
        ")\n",
        "plt.ylabel(\n",
        "    \"Rango\",\n",
        "    size=10,\n",
        ")\n",
        "plt.scatter(X[:,0], X[:,1], c=Y)"
      ],
      "metadata": {
        "colab": {
          "base_uri": "https://localhost:8080/",
          "height": 466
        },
        "id": "rbLecac1hiH9",
        "outputId": "af188f16-6500-4e53-adf3-d0a2b16a7362"
      },
      "execution_count": 103,
      "outputs": [
        {
          "output_type": "execute_result",
          "data": {
            "text/plain": [
              "<matplotlib.collections.PathCollection at 0x7e63a694df00>"
            ]
          },
          "metadata": {},
          "execution_count": 103
        },
        {
          "output_type": "display_data",
          "data": {
            "text/plain": [
              "<Figure size 640x480 with 1 Axes>"
            ],
            "image/png": "[encoded data removed]"
          },
          "metadata": {}
        }
      ]
    },
    {
      "cell_type": "markdown",
      "source": [
        "**Conclusiones: **El ejercicio muestra una tarea de clasifición para las acciones listadas en el listado S&P500 publicado en Yahoo.com, realizado con las métricas de la desviación estándar y el rango de variación del precio de cierre de las acciones, visto en los tre prieros meses del año 2024.\n",
        "\n",
        "Como se puede ver en la gráfica final, el resultado de la ejecución fue el de generar tres clusters, que agrupan las acciones en las del grupo de abajo a la izquierda que pueden ser clasificados más estables o de menos volatilidad ya que sus métricas de variación están más orientadas al cero.\n",
        "\n",
        "En el grupo púrpura, en la mitad de la gráfica pueden identificarse las acciones con una volatilidad moderada, y en el cluster amarillo, las acciones de más alta volatilidad según los datos analizados.\n",
        "\n",
        "Esta información puede ser de utilidad para que un inversionista realice toma de decisiones para nuevas actividades de inversión.\n"
      ],
      "metadata": {
        "id": "fvaVlRKckbUO"
      }
    },
    {
      "cell_type": "code",
      "source": [
        "\n"
      ],
      "metadata": {
        "id": "SYxZw4yuh9OD"
      },
      "execution_count": null,
      "outputs": []
    }
  ]
}